{
 "cells": [
  {
   "cell_type": "markdown",
   "metadata": {},
   "source": [
    "# Day 1"
   ]
  },
  {
   "cell_type": "code",
   "execution_count": 9,
   "metadata": {},
   "outputs": [
    {
     "name": "stdout",
     "output_type": "stream",
     "text": [
      "Hey Hamid! \n",
      "You have the power to achieve Your Gola!\n",
      "Lets get started\n"
     ]
    }
   ],
   "source": [
    "print(\"Hey Hamid! \")\n",
    "print(\"You have the power to achieve Your Gola!\")\n",
    "print(\"Lets get started\")\n"
   ]
  },
  {
   "cell_type": "code",
   "execution_count": 4,
   "metadata": {},
   "outputs": [
    {
     "name": "stdout",
     "output_type": "stream",
     "text": [
      "Comments start with a #\n"
     ]
    }
   ],
   "source": [
    "#This is a comment.\n",
    "print(\"Comments start with a #\")"
   ]
  },
  {
   "cell_type": "markdown",
   "metadata": {},
   "source": [
    "### Comments use for many purposes:\n",
    "#### 1.to explain Python code.\n",
    "#### 2.  to make the code more readable.\n",
    "#### 3. prevent execution when testing code."
   ]
  },
  {
   "cell_type": "code",
   "execution_count": 7,
   "metadata": {},
   "outputs": [
    {
     "name": "stdout",
     "output_type": "stream",
     "text": [
      "Hey Fara!\n"
     ]
    }
   ],
   "source": [
    "\"\"\"\n",
    "This is a comment\n",
    "written in\n",
    "more than just one line \n",
    "of code with triple q\n",
    "\"\"\"\n",
    "print(\"Hey Fara!\")"
   ]
  },
  {
   "cell_type": "markdown",
   "metadata": {},
   "source": [
    "# Python Variables "
   ]
  },
  {
   "cell_type": "code",
   "execution_count": 10,
   "metadata": {},
   "outputs": [
    {
     "name": "stdout",
     "output_type": "stream",
     "text": [
      "100\n",
      "True\n",
      "12.6\n"
     ]
    }
   ],
   "source": [
    "# variables\n",
    "# integer\n",
    "price = 100\n",
    "\n",
    "#boolean\n",
    "is_open = True\n",
    "\n",
    "#Flotting point Number\n",
    "score = 12.6\n",
    "\n",
    "print(price)\n",
    "print(is_open)\n",
    "print(score)\n"
   ]
  },
  {
   "cell_type": "code",
   "execution_count": 12,
   "metadata": {},
   "outputs": [
    {
     "name": "stdout",
     "output_type": "stream",
     "text": [
      "10\n",
      "Hamid\n"
     ]
    }
   ],
   "source": [
    "x = 10\n",
    "name = \"Hamid\"\n",
    "print(x)\n",
    "print(name)"
   ]
  },
  {
   "cell_type": "code",
   "execution_count": 15,
   "metadata": {},
   "outputs": [
    {
     "name": "stdout",
     "output_type": "stream",
     "text": [
      "<class 'str'>\n",
      "<class 'int'>\n"
     ]
    }
   ],
   "source": [
    "# knowing the type of varibale\n",
    "print(type(name))\n",
    "print(type(x))"
   ]
  },
  {
   "cell_type": "code",
   "execution_count": 18,
   "metadata": {},
   "outputs": [
    {
     "name": "stdout",
     "output_type": "stream",
     "text": [
      "<class 'int'>\n",
      "<class 'str'>\n",
      "<class 'float'>\n"
     ]
    }
   ],
   "source": [
    "xx = int(5)\n",
    "yy = str(5)\n",
    "zz = float(5)\n",
    "\n",
    "\n",
    "print(type(xx))\n",
    "print(type(yy))\n",
    "print(type(zz))"
   ]
  },
  {
   "cell_type": "markdown",
   "metadata": {},
   "source": [
    "## Python Data Types"
   ]
  },
  {
   "cell_type": "markdown",
   "metadata": {},
   "source": [
    "### Built-in Data Types"
   ]
  },
  {
   "cell_type": "markdown",
   "metadata": {},
   "source": [
    "Text Type:\tstr\n",
    "\n",
    "Numeric Types:\tint, float, complex\n",
    "\n",
    "Sequence Types:\tlist, tuple, range\n",
    "\n",
    "Mapping Type:\tdict\n",
    "\n",
    "Set Types:\tset, frozenset\n",
    "\n",
    "Boolean Type:\tbool\n",
    "\n",
    "Binary Types:\tbytes, bytearray, memoryview "
   ]
  },
  {
   "cell_type": "code",
   "execution_count": 19,
   "metadata": {},
   "outputs": [],
   "source": [
    "# Examples"
   ]
  },
  {
   "cell_type": "code",
   "execution_count": 22,
   "metadata": {},
   "outputs": [],
   "source": [
    "string = \"this is String\"\n",
    "integer = 34\n",
    "float_1 = 67.4\n",
    "complex_Ex = 5j\n",
    "list_Ex = [\"Hamid\",\"Ali\", \"Jahan\", \"Fatima\"]\n",
    "tuple_Ex = (\"Hamid\",\"Ali\", \"Jahan\", \"Fatima\")\n",
    "range_Ex = range(10)\n",
    "dictioanry_ex = {\"name\": \"Hamid\", \"Place\": \"Kabul\", \"Age\": 23}\n",
    "set_ex = {\"Hamid\",\"Ali\", \"Jahan\", \"Fatima\"}\n",
    "bool_Ex = True\n"
   ]
  },
  {
   "cell_type": "code",
   "execution_count": 24,
   "metadata": {},
   "outputs": [
    {
     "name": "stdout",
     "output_type": "stream",
     "text": [
      "this is String\n",
      "34\n",
      "67.4\n",
      "5j\n",
      "['Hamid', 'Ali', 'Jahan', 'Fatima']\n",
      "('Hamid', 'Ali', 'Jahan', 'Fatima')\n",
      "range(0, 10)\n",
      "{'name': 'Hamid', 'Place': 'Kabul', 'Age': 23}\n",
      "{'Hamid', 'Fatima', 'Ali', 'Jahan'}\n",
      "True\n"
     ]
    }
   ],
   "source": [
    "print(string)\n",
    "print(integer)\n",
    "print(float_1)\n",
    "print(complex_Ex)\n",
    "print(list_Ex)\n",
    "print(tuple_Ex)\n",
    "print(range_Ex)\n",
    "print(dictioanry_ex)\n",
    "print(set_ex)\n",
    "print(bool_Ex)"
   ]
  },
  {
   "cell_type": "code",
   "execution_count": null,
   "metadata": {},
   "outputs": [],
   "source": []
  }
 ],
 "metadata": {
  "kernelspec": {
   "display_name": "Python 3",
   "language": "python",
   "name": "python3"
  },
  "language_info": {
   "codemirror_mode": {
    "name": "ipython",
    "version": 3
   },
   "file_extension": ".py",
   "mimetype": "text/x-python",
   "name": "python",
   "nbconvert_exporter": "python",
   "pygments_lexer": "ipython3",
   "version": "3.8.3"
  }
 },
 "nbformat": 4,
 "nbformat_minor": 4
}
